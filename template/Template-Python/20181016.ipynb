{
 "cells": [
  {
   "cell_type": "code",
   "execution_count": null,
   "metadata": {},
   "outputs": [],
   "source": [
    "import pandas as pd \n",
    "import numpy as np\n",
    "from plotnine import *\n",
    "from plotnine.data import *\n",
    "\n",
    "ToothGrowth_summary = pd.read_csv('ToothGrowth_summary.csv',header=0,index_col=0)\n",
    "q5 = (\n",
    "    ggplot(ToothGrowth_summary, aes(x='factor(dose)', y='len', fill='supp')) + \n",
    "    geom_bar(stat=\"identity\", position=position_dodge()) +\n",
    "    theme_classic()+\n",
    "    geom_errorbar(ToothGrowth_summary,aes(ymin='ymin', ymax='ymax'), width=.2, position=position_dodge(.9))+\n",
    "    theme(legend_position=(0.3,0.8))+\n",
    "    theme(axis_text=element_text(size=14,color='black',family='sans-serif'),\n",
    "          axis_title=element_text(size=14,color='black',family='sans-serif'),\n",
    "          legend_text= element_text(size=14,color='black',family='sans-serif'))+\n",
    "    labs(x='dose (mg)',y='length (cm)',fill='')+\n",
    "    theme(legend_background=element_rect(alpha=0))+\n",
    "    scale_y_continuous(expand=(0, 0, .1, 0))+\n",
    "    labs(fill='')+\n",
    "    scale_fill_manual(values=['#D45E1A', '#0F73B0']))\n",
    "q5.save('Tooth_boxploterrorbar.pdf',width=4, height=5.5)"
   ]
  }
 ],
 "metadata": {
  "kernelspec": {
   "display_name": "Python 3",
   "language": "python",
   "name": "python3"
  },
  "language_info": {
   "codemirror_mode": {
    "name": "ipython",
    "version": 3
   },
   "file_extension": ".py",
   "mimetype": "text/x-python",
   "name": "python",
   "nbconvert_exporter": "python",
   "pygments_lexer": "ipython3",
   "version": "3.7.0"
  }
 },
 "nbformat": 4,
 "nbformat_minor": 2
}
